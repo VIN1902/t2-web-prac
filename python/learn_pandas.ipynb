{
 "cells": [
  {
   "cell_type": "markdown",
   "metadata": {},
   "source": [
    "# Pandas"
   ]
  },
  {
   "cell_type": "code",
   "execution_count": null,
   "metadata": {},
   "outputs": [],
   "source": [
    "import pandas as pd"
   ]
  },
  {
   "cell_type": "code",
   "execution_count": null,
   "metadata": {},
   "outputs": [],
   "source": [
    "df = pd.read_csv('sample_data.csv')\n",
    "# df.to_string()"
   ]
  },
  {
   "cell_type": "code",
   "execution_count": 10,
   "metadata": {},
   "outputs": [
    {
     "name": "stdout",
     "output_type": "stream",
     "text": [
      "   ID      Name  Age  Salary  Experience (Years) Department  Performance Score\n",
      "0   1  Person_1   50  100592                  17  Marketing                  6\n",
      "1   2  Person_2   36  128018                   2      Sales                 10\n",
      "2   3  Person_3   29  143252                   2         IT                 10\n",
      "3   4  Person_4   42   38110                  28      Sales                  6\n",
      "4   5  Person_5   40  109309                  23         IT                  1\n"
     ]
    }
   ],
   "source": [
    "print(df.head(5))"
   ]
  },
  {
   "cell_type": "code",
   "execution_count": 11,
   "metadata": {},
   "outputs": [
    {
     "name": "stdout",
     "output_type": "stream",
     "text": [
      "0    9\n",
      "1    8\n",
      "2    7\n",
      "dtype: int64\n"
     ]
    }
   ],
   "source": [
    "print(pd.Series([9,8,7]))"
   ]
  },
  {
   "cell_type": "code",
   "execution_count": 12,
   "metadata": {},
   "outputs": [
    {
     "name": "stdout",
     "output_type": "stream",
     "text": [
      "a    9\n",
      "b    8\n",
      "c    7\n",
      "dtype: int64\n"
     ]
    }
   ],
   "source": [
    "print(pd.Series([9,8,7], index=['a','b','c']))"
   ]
  },
  {
   "cell_type": "markdown",
   "metadata": {},
   "source": [
    "Dataframe from a list"
   ]
  },
  {
   "cell_type": "code",
   "execution_count": 16,
   "metadata": {},
   "outputs": [
    {
     "name": "stdout",
     "output_type": "stream",
     "text": [
      "    Name  Age\n",
      "0   alex   10\n",
      "1    bob   20\n",
      "2  clark   30\n"
     ]
    }
   ],
   "source": [
    "data = [['alex', 10],['bob', 20],['clark', 30]]\n",
    "df = pd.DataFrame(data, columns=['Name','Age'])\n",
    "print(df)"
   ]
  },
  {
   "cell_type": "markdown",
   "metadata": {},
   "source": [
    "Dataframe from dict"
   ]
  },
  {
   "cell_type": "code",
   "execution_count": null,
   "metadata": {},
   "outputs": [
    {
     "name": "stdout",
     "output_type": "stream",
     "text": [
      "    Name  Age\n",
      "0   alex   10\n",
      "1    bob   20\n",
      "2  clark   30\n",
      "0     alex\n",
      "1      bob\n",
      "2    clark\n",
      "Name: Name, dtype: object\n"
     ]
    }
   ],
   "source": [
    "data = {\n",
    "    \"Name\": ['alex', 'bob', 'clark'],\n",
    "    \"Age\": [10,20,30]\n",
    "}\n",
    "df = pd.DataFrame(data) #index=['rank1','rank2',..]\n",
    "print(df)"
   ]
  },
  {
   "cell_type": "markdown",
   "metadata": {},
   "source": [
    "Accessing columns"
   ]
  },
  {
   "cell_type": "code",
   "execution_count": 30,
   "metadata": {},
   "outputs": [
    {
     "name": "stdout",
     "output_type": "stream",
     "text": [
      "       Name  Age\n",
      "0  Person_1   50\n",
      "1  Person_2   36\n",
      "2  Person_3   29\n",
      "3  Person_4   42\n",
      "4  Person_5   40\n"
     ]
    }
   ],
   "source": [
    "df = pd.read_csv('sample_data.csv')\n",
    "print(df[['Name','Age']].head()) # df['Name']"
   ]
  },
  {
   "cell_type": "markdown",
   "metadata": {},
   "source": [
    "If you want to set a specific column as the index"
   ]
  },
  {
   "cell_type": "code",
   "execution_count": 37,
   "metadata": {},
   "outputs": [
    {
     "name": "stdout",
     "output_type": "stream",
     "text": [
      "          ID  Age  Salary  Experience (Years) Department  Performance Score\n",
      "Name                                                                       \n",
      "Person_1   1   50  100592                  17  Marketing                  6\n",
      "Person_2   2   36  128018                   2      Sales                 10\n",
      "Person_3   3   29  143252                   2         IT                 10\n"
     ]
    }
   ],
   "source": [
    "df.set_index('Name', inplace=True)\n",
    "print(df.head(3))\n",
    "df.reset_index(inplace=True)"
   ]
  },
  {
   "cell_type": "markdown",
   "metadata": {},
   "source": [
    ".loc and .iloc"
   ]
  },
  {
   "cell_type": "code",
   "execution_count": 53,
   "metadata": {},
   "outputs": [
    {
     "name": "stdout",
     "output_type": "stream",
     "text": [
      "  Department\n",
      "0  Marketing\n",
      "1      Sales\n",
      "2         IT\n",
      "3      Sales\n",
      "4         IT\n",
      "5      Sales\n",
      "-----------------------\n",
      "         Name\n",
      "11  Person_12\n",
      "13  Person_14\n",
      "17  Person_18\n",
      "27  Person_28\n",
      "33  Person_34\n",
      "38  Person_39\n",
      "47  Person_48\n",
      "48  Person_49\n",
      "50  Person_51\n",
      "71  Person_72\n",
      "76  Person_77\n",
      "-----------------------\n",
      "       Name  ID  Age  Salary  Experience (Years) Department\n",
      "0  Person_1   1   50  100592                  17  Marketing\n",
      "1  Person_2   2   36  128018                   2      Sales\n",
      "2  Person_3   3   29  143252                   2         IT\n",
      "3  Person_4   4   42   38110                  28      Sales\n"
     ]
    }
   ],
   "source": [
    "# .loc → Uses labels (column names or index labels).\n",
    "# .iloc → Uses integer positions (like array indexing).\n",
    "\n",
    "print(df.loc[0:5, [\"Department\"]]) # loc[row_label,col_label]\n",
    "print('-----------------------')\n",
    "print(df.loc[df['Age']<=25, [\"Name\"]])\n",
    "print('-----------------------')\n",
    "print(df.iloc[0:4,0:-1])"
   ]
  },
  {
   "cell_type": "markdown",
   "metadata": {},
   "source": [
    "adding/del column"
   ]
  },
  {
   "cell_type": "code",
   "execution_count": 61,
   "metadata": {},
   "outputs": [
    {
     "name": "stdout",
     "output_type": "stream",
     "text": [
      "   ID      Name  Age  Salary  Experience (Years) Department  \\\n",
      "0   1  Person_1   50  100592                  17  Marketing   \n",
      "1   2  Person_2   36  128018                   2      Sales   \n",
      "2   3  Person_3   29  143252                   2         IT   \n",
      "3   4  Person_4   42   38110                  28      Sales   \n",
      "\n",
      "   Performance Score  NewCol Another  \n",
      "0                  6      67       x  \n",
      "1                 10      38       y  \n",
      "2                 10      31       z  \n",
      "3                  6      70     NaN  \n",
      "   ID      Name  Age  Salary  Experience (Years) Department  Performance Score\n",
      "0   1  Person_1   50  100592                  17  Marketing                  6\n",
      "1   2  Person_2   36  128018                   2      Sales                 10\n",
      "2   3  Person_3   29  143252                   2         IT                 10\n",
      "3   4  Person_4   42   38110                  28      Sales                  6\n"
     ]
    }
   ],
   "source": [
    "df = pd.read_csv('sample_data.csv')\n",
    "df['NewCol'] = df['Age'] + df['Experience (Years)']\n",
    "df['Another'] = pd.Series(['x','y','z'])\n",
    "print(df.head(4))\n",
    "df.pop('Another')\n",
    "del df['NewCol']\n",
    "print(df.head(4))"
   ]
  },
  {
   "cell_type": "markdown",
   "metadata": {},
   "source": [
    "add/del rows"
   ]
  },
  {
   "cell_type": "code",
   "execution_count": 72,
   "metadata": {},
   "outputs": [],
   "source": [
    "df1 = pd.DataFrame({\"Name\":['Vikas'],\"Age\":[22]})\n",
    "df2 = pd.DataFrame({\"Name\":['Sakiv'],\"Age\":[69]})\n",
    "df1 = pd.concat([df1,df2]) # df1.append(df2)\n",
    "# df1.drop(0)"
   ]
  },
  {
   "cell_type": "markdown",
   "metadata": {},
   "source": [
    "DataFrame functionalities"
   ]
  },
  {
   "cell_type": "code",
   "execution_count": 80,
   "metadata": {},
   "outputs": [
    {
     "name": "stdout",
     "output_type": "stream",
     "text": [
      "    Name  Age\n",
      "0  Vikas   22\n",
      "1  Sakiv   69\n",
      "--------\n",
      "          0      1\n",
      "Name  Vikas  Sakiv\n",
      "Age      22     69\n",
      "--------\n",
      "Number of dimensions: 2\n",
      "--------\n",
      "Shape: (2, 2)\n",
      "--------\n",
      "Size: 4\n",
      "--------\n",
      "             Age\n",
      "count   2.000000\n",
      "mean   45.500000\n",
      "std    33.234019\n",
      "min    22.000000\n",
      "25%    33.750000\n",
      "50%    45.500000\n",
      "75%    57.250000\n",
      "max    69.000000\n"
     ]
    }
   ],
   "source": [
    "prac_df = pd.DataFrame({\"Name\": [\"Vikas\",'Sakiv'], \"Age\": [22,69]})\n",
    "print(prac_df)\n",
    "print('--------')\n",
    "print(prac_df.T)\n",
    "print('--------')\n",
    "print('Number of dimensions:',prac_df.ndim)\n",
    "print('--------')\n",
    "print('Shape:', prac_df.shape)\n",
    "print('--------')\n",
    "print('Size:', prac_df.size)\n",
    "print('--------')\n",
    "print(prac_df.describe())"
   ]
  },
  {
   "cell_type": "markdown",
   "metadata": {},
   "source": [
    "iteration over df"
   ]
  },
  {
   "cell_type": "code",
   "execution_count": 84,
   "metadata": {},
   "outputs": [
    {
     "name": "stdout",
     "output_type": "stream",
     "text": [
      "Name: Vikas at 0, Age: 22 at 0\n",
      "Name: Sakiv at 1, Age: 69 at 1\n"
     ]
    }
   ],
   "source": [
    "for row in prac_df.itertuples():\n",
    "    print(f'Name: {row.Name} at {row.Index}, Age: {row.Age} at {row.Index}')"
   ]
  },
  {
   "cell_type": "markdown",
   "metadata": {},
   "source": [
    "Cleaning"
   ]
  },
  {
   "cell_type": "code",
   "execution_count": null,
   "metadata": {},
   "outputs": [],
   "source": [
    "# empty data remove row\n",
    "df = pd.read_csv('sample_data.csv')\n",
    "cleandf = df.dropna() # inplace=True\n",
    "\n",
    "# empty data replace value\n",
    "cleandf = df.fillna(69)\n",
    "df['Age'].fillna(69)\n",
    "df['Age'].filna(df['Age'].mean(), inplace=True)\n",
    "\n",
    "# format\n",
    "# df['Date'] = pd.to_datetime(df['Date'])\n",
    "\n",
    "# wrong\n",
    "# df.loc[7, 'Duration'] = 45\n",
    "'''\n",
    "for x in df.index:\n",
    "    if df.loc[x, \"Duration\"] > 120:\n",
    "        df.loc[x, \"Duration\"] = 120\n",
    "'''\n",
    "\n",
    "#duplicate\n",
    "'''\n",
    "df.duplicated()\n",
    "df.drop_duplicated(inplace=True)\n",
    "'''"
   ]
  }
 ],
 "metadata": {
  "kernelspec": {
   "display_name": ".venv",
   "language": "python",
   "name": "python3"
  },
  "language_info": {
   "codemirror_mode": {
    "name": "ipython",
    "version": 3
   },
   "file_extension": ".py",
   "mimetype": "text/x-python",
   "name": "python",
   "nbconvert_exporter": "python",
   "pygments_lexer": "ipython3",
   "version": "3.13.2"
  }
 },
 "nbformat": 4,
 "nbformat_minor": 2
}
